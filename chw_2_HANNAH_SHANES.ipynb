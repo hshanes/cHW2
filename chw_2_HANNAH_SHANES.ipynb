{
  "nbformat": 4,
  "nbformat_minor": 0,
  "metadata": {
    "kernelspec": {
      "display_name": "Python 3.8.3 64-bit ('base': conda)",
      "language": "python",
      "name": "python38364bitbaseconda97cd5720aa194725b86ca3d3cdd6281a"
    },
    "language_info": {
      "codemirror_mode": {
        "name": "ipython",
        "version": 3
      },
      "file_extension": ".py",
      "mimetype": "text/x-python",
      "name": "python",
      "nbconvert_exporter": "python",
      "pygments_lexer": "ipython3",
      "version": "3.8.3-final"
    },
    "colab": {
      "name": "chw-2_HANNAH_SHANES.ipynb",
      "provenance": [],
      "include_colab_link": true
    }
  },
  "cells": [
    {
      "cell_type": "markdown",
      "metadata": {
        "id": "view-in-github",
        "colab_type": "text"
      },
      "source": [
        "<a href=\"https://colab.research.google.com/github/hshanes/cHW2/blob/main/chw_2_HANNAH_SHANES.ipynb\" target=\"_parent\"><img src=\"https://colab.research.google.com/assets/colab-badge.svg\" alt=\"Open In Colab\"/></a>"
      ]
    },
    {
      "cell_type": "markdown",
      "metadata": {
        "id": "9rXBCFgJ0gnd"
      },
      "source": [
        "<a href=\"https://colab.research.google.com/github/scaomath/wustl-math450/blob/main/Homework/chw-2_YOUR_NAME.ipynb\" target=\"_parent\"><img src=\"https://colab.research.google.com/assets/colab-badge.svg\" alt=\"Open In Colab\"/></a>"
      ]
    },
    {
      "cell_type": "markdown",
      "metadata": {
        "id": "4br4839U0gnq"
      },
      "source": [
        "# Homework 2: Vectorization (`*` and `mm` in `torch` and `Linear` in `torch.nn`)\n",
        "Name: Hannah Shanes\n",
        "\n",
        "Wustlkey:hshanes\n",
        "Partner Name (if applicable):\n",
        "\n",
        "Partner Wustlkey (if applicable):\n",
        "\n",
        "### Submission instructions\n",
        "\n",
        "- Submit the modified python notebook as homework submission.\n",
        "- Group submission is enabled, you can submit this coding assignment with up to 1 teammate in our class. For instruction of how to do a group submission. Please refer to Canvas useful links.\n",
        "- Do not change the number of cells! Please work in the cell provided. If we need extra cells for debugging and testing purposes, we can work at the end of this notebook, save everything as a backup for review, and delete the extra cells in the submitted version.\n",
        "\n",
        " \n",
        "\n",
        "### Instructions\n",
        "Do **not** use `for` loops for computational purpose in any of our solutions! We are allowed to use `for` loops to display figures etc.\n",
        "Efficieny will be graded as well. For example if a problem asks us generate an array from 0 to 9: then\n",
        "```python\n",
        "x = []\n",
        "for i in range(10):\n",
        "    x.append(i)\n",
        "```\n",
        "this will only result a partial credit while\n",
        "```python\n",
        "x = np.arange(10)\n",
        "```\n",
        "or\n",
        "```python\n",
        "x = torch.arange(10)\n",
        "```\n",
        "will yield a full score.\n",
        "\n",
        "### Problems\n",
        "Below are 4 problems that explore elementwise operations, matrix-vector multiplication, and the simplest layer in `torch.nn` module. Each problem gives examples demonstrating the concept and has an associated coding task. Complete the coding tasks for credit.\n",
        "\n",
        "### Grading\n",
        "This homework has 4 problems, 5 points each. The homework will be graded and the grade counts towards your course grade. \n",
        "\n",
        "## Coding environments and submission\n",
        "If we do not have `torch` installed on your computer, we have three ways to upload this notebook to [Google colab](https://colab.research.google.com/)：\n",
        "\n",
        "1. Open up Google Colab, choose `Upload` to upload this template and work there. After we have done working we can select `File->Download .ipynb`.\n",
        "2. Open up Google Colab, choose either `GitHub` or `Google Drive` to select the uploaded notebook in the corresponding website. After done working, we can sync the file to the corresponding GitHub or Google Drive copy.\n",
        "3. Use the \"Open in Colab\" button at the top."
      ]
    },
    {
      "cell_type": "code",
      "metadata": {
        "id": "50v0njWX0gnr"
      },
      "source": [
        "# Run Me First\n",
        "import numpy as np\n",
        "import torch"
      ],
      "execution_count": 1,
      "outputs": []
    },
    {
      "cell_type": "markdown",
      "metadata": {
        "id": "QOGjQnqS0gns"
      },
      "source": [
        "## Dataset\n",
        "\n",
        "\n",
        "\"MNIST (\"Modified National Institute of Standards and Technology\") is the de facto “hello world” dataset of computer vision. Since its release in 1999, this classic dataset of handwritten images has served as the basis for benchmarking classification algorithms. As new machine learning techniques emerge, MNIST remains a reliable resource for researchers and learners alike.\"\n",
        "\n",
        "In the following cells, we will learn how to load and view this dataset for our toy models. \n",
        "\n",
        "Read more:[https://www.kaggle.com/c/digit-recognizer](https://www.kaggle.com/c/digit-recognizer)\n",
        "\n",
        "\n",
        "<a title=\"By Josef Steppan [CC BY-SA 4.0 (https://creativecommons.org/licenses/by-sa/4.0)], from Wikimedia Commons\" href=\"https://commons.wikimedia.org/wiki/File:MnistExamples.png\"><img width=\"512\" alt=\"MnistExamples\" src=\"https://upload.wikimedia.org/wikipedia/commons/2/27/MnistExamples.png\"/></a>\n",
        "\n",
        "\n",
        "---- \n",
        "This code is adopted from the pytorch examples repository. \n",
        "It is licensed under BSD 3-Clause \"New\" or \"Revised\" License.\n",
        "Source: https://github.com/pytorch/examples/\n",
        "LICENSE: https://github.com/pytorch/examples/blob/master/LICENSE"
      ]
    },
    {
      "cell_type": "code",
      "metadata": {
        "id": "6xID_r450gns"
      },
      "source": [
        "# import torchvision \n",
        "from __future__ import print_function\n",
        "from torchvision import datasets, transforms\n",
        "from torch.utils.data import DataLoader\n",
        "from torchvision.utils import make_grid\n"
      ],
      "execution_count": 2,
      "outputs": []
    },
    {
      "cell_type": "code",
      "metadata": {
        "id": "R1zW1XjG0gnt"
      },
      "source": [
        "# import packages that help us plot\n",
        "import matplotlib.pyplot as plt\n",
        "import seaborn as sns\n",
        "sns.set_style(\"dark\")"
      ],
      "execution_count": 3,
      "outputs": []
    },
    {
      "cell_type": "code",
      "metadata": {
        "id": "MwH5_DBE0gnt"
      },
      "source": [
        "# download the data\n",
        "train = datasets.MNIST('../data', train=True, download=True, transform = transforms.ToTensor())"
      ],
      "execution_count": 6,
      "outputs": []
    },
    {
      "cell_type": "code",
      "metadata": {
        "id": "I6CfR2Rx0gnt"
      },
      "source": [
        "# put the data into a loader, every iteration 1 sample is loaded\n",
        "train_loader = DataLoader(train, batch_size=1, shuffle=True, num_workers=2,)"
      ],
      "execution_count": 7,
      "outputs": []
    },
    {
      "cell_type": "code",
      "metadata": {
        "id": "jvUnpciS0gnu"
      },
      "source": [
        "data_iter = iter(train_loader) # set the loader to be an iterator\n",
        "images, labels = next(data_iter) # next returns the next item in an iterator"
      ],
      "execution_count": 8,
      "outputs": []
    },
    {
      "cell_type": "markdown",
      "metadata": {
        "id": "-SFr1_Xu0gnu"
      },
      "source": [
        "`image` is now a `28x28` matrix, with entries varying between 0 and 1. Once being plotted by `imshow` function as a `28x28` image, each pixel's brightness is decided by the matrix's entry value. Here axes are used but we can always just call `plt.imshow` instead."
      ]
    },
    {
      "cell_type": "code",
      "metadata": {
        "id": "lb03mGzM0gnu",
        "colab": {
          "base_uri": "https://localhost:8080/",
          "height": 290
        },
        "outputId": "5cb7e272-3da8-4a68-d271-41fbfe8cd298"
      },
      "source": [
        "image = images[0].squeeze()\n",
        "label = labels.squeeze()\n",
        "_, ax = plt.subplots(1)\n",
        "ax.imshow(image, cmap='gray'); \n",
        "ax.set_title(f'Label: {label}', color= 'black', fontsize=25);"
      ],
      "execution_count": 9,
      "outputs": [
        {
          "output_type": "display_data",
          "data": {
            "image/png": "[encoded data removed]",
            "text/plain": [
              "<Figure size 432x288 with 1 Axes>"
            ]
          },
          "metadata": {
            "tags": []
          }
        }
      ]
    },
    {
      "cell_type": "markdown",
      "metadata": {
        "id": "rTfGMYy70gny"
      },
      "source": [
        "## Data manipulation in higher dimensions\n",
        "\n",
        "Load more images with label 8. "
      ]
    },
    {
      "cell_type": "code",
      "metadata": {
        "id": "_H-A0Sem0gnz",
        "colab": {
          "base_uri": "https://localhost:8080/"
        },
        "outputId": "1466fe8c-df0b-4e81-ef5b-5c638e605265"
      },
      "source": [
        "idx = (train.train_labels==8)\n",
        "labels_new = train.train_labels[idx]\n",
        "data = train.train_data[idx]/255"
      ],
      "execution_count": 10,
      "outputs": [
        {
          "output_type": "stream",
          "text": [
            "/usr/local/lib/python3.7/dist-packages/torchvision/datasets/mnist.py:48: UserWarning: train_labels has been renamed targets\n",
            "  warnings.warn(\"train_labels has been renamed targets\")\n",
            "/usr/local/lib/python3.7/dist-packages/torchvision/datasets/mnist.py:58: UserWarning: train_data has been renamed data\n",
            "  warnings.warn(\"train_data has been renamed data\")\n"
          ],
          "name": "stderr"
        }
      ]
    },
    {
      "cell_type": "markdown",
      "metadata": {
        "id": "0bU0xdXz0gnz"
      },
      "source": [
        "Now we randomly pick 10 of them using `numpy.random.choice` function, notice the shape of the data should be `(10, 28, 28)` whereas the dimension 0 (axis 0) represents the indices of the image."
      ]
    },
    {
      "cell_type": "code",
      "metadata": {
        "id": "eSI5mgNb0gnz",
        "colab": {
          "base_uri": "https://localhost:8080/"
        },
        "outputId": "5e960c95-8b5a-4bca-8dc4-5fdcfa58e3ec"
      },
      "source": [
        "n_data_all = len(data)\n",
        "idx = np.random.choice(range(n_data_all), size=10)\n",
        "data_new = data[idx]\n",
        "data_new = torch.tensor(data_new, dtype=torch.float)\n",
        "print(data_new.shape)"
      ],
      "execution_count": 11,
      "outputs": [
        {
          "output_type": "stream",
          "text": [
            "torch.Size([10, 28, 28])\n"
          ],
          "name": "stdout"
        },
        {
          "output_type": "stream",
          "text": [
            "/usr/local/lib/python3.7/dist-packages/ipykernel_launcher.py:4: UserWarning: To copy construct from a tensor, it is recommended to use sourceTensor.clone().detach() or sourceTensor.clone().detach().requires_grad_(True), rather than torch.tensor(sourceTensor).\n",
            "  after removing the cwd from sys.path.\n"
          ],
          "name": "stderr"
        }
      ]
    },
    {
      "cell_type": "code",
      "metadata": {
        "id": "7W_IuAVs0gnz",
        "colab": {
          "base_uri": "https://localhost:8080/",
          "height": 265
        },
        "outputId": "d1d050a0-4b4c-4bed-bdbb-dca687d72f94"
      },
      "source": [
        "plt.imshow(data_new[0,:,:], cmap='gray'); # plot the first sample"
      ],
      "execution_count": 12,
      "outputs": [
        {
          "output_type": "display_data",
          "data": {
            "image/png": "[encoded data removed]",
            "text/plain": [
              "<Figure size 432x288 with 1 Axes>"
            ]
          },
          "metadata": {
            "tags": []
          }
        }
      ]
    },
    {
      "cell_type": "markdown",
      "metadata": {
        "id": "WzbWYW5m0gn0"
      },
      "source": [
        "## Problem 1\n",
        "\n",
        "For `data_new`, get a smoothened 8 image `average_8` by averaging axis 0, use a single line of code to achieve the result of the following `for` loop:\n",
        "\n",
        "```python\n",
        "n_sample = len(data_new)\n",
        "average_8 = torch.zeros_like(data_new[0], dtype=torch.float)\n",
        "for i in range(n_sample):\n",
        "    average_8 += data_new[i,:,:]/n_sample\n",
        "\n",
        "```"
      ]
    },
    {
      "cell_type": "code",
      "metadata": {
        "id": "9KfyDUhV0gn0",
        "colab": {
          "base_uri": "https://localhost:8080/",
          "height": 1000
        },
        "outputId": "a945f24a-9415-4268-9df7-66fd6f6f8cc1"
      },
      "source": [
        "average_8 = torch.mean(data_new[:,:,:], dim=0)   # Replace this with your code\n",
        "print(average_8)\n",
        "try:\n",
        "    plt.imshow(average_8, cmap='gray'); # this should look like a smoothened 8\n",
        "except TypeError:\n",
        "    print(\"Please get an averaged tensor first.\")"
      ],
      "execution_count": 21,
      "outputs": [
        {
          "output_type": "stream",
          "text": [
            "tensor([[0.0000, 0.0000, 0.0000, 0.0000, 0.0000, 0.0000, 0.0000, 0.0000, 0.0000,\n",
            "         0.0000, 0.0000, 0.0000, 0.0000, 0.0000, 0.0000, 0.0000, 0.0000, 0.0000,\n",
            "         0.0000, 0.0000, 0.0000, 0.0000, 0.0000, 0.0000, 0.0000, 0.0000, 0.0000,\n",
            "         0.0000],\n",
            "        [0.0000, 0.0000, 0.0000, 0.0000, 0.0000, 0.0000, 0.0000, 0.0000, 0.0000,\n",
            "         0.0000, 0.0000, 0.0000, 0.0000, 0.0000, 0.0000, 0.0000, 0.0000, 0.0000,\n",
            "         0.0000, 0.0000, 0.0000, 0.0000, 0.0000, 0.0000, 0.0000, 0.0000, 0.0000,\n",
            "         0.0000],\n",
            "        [0.0000, 0.0000, 0.0000, 0.0000, 0.0000, 0.0000, 0.0000, 0.0000, 0.0000,\n",
            "         0.0000, 0.0000, 0.0000, 0.0000, 0.0000, 0.0000, 0.0000, 0.0000, 0.0000,\n",
            "         0.0000, 0.0000, 0.0000, 0.0000, 0.0000, 0.0000, 0.0000, 0.0000, 0.0000,\n",
            "         0.0000],\n",
            "        [0.0000, 0.0000, 0.0000, 0.0000, 0.0000, 0.0000, 0.0000, 0.0000, 0.0000,\n",
            "         0.0000, 0.0000, 0.0000, 0.0290, 0.0706, 0.0996, 0.0996, 0.0996, 0.1000,\n",
            "         0.0569, 0.0000, 0.0000, 0.0047, 0.0753, 0.0996, 0.0776, 0.0165, 0.0000,\n",
            "         0.0000],\n",
            "        [0.0000, 0.0000, 0.0000, 0.0000, 0.0000, 0.0000, 0.0000, 0.0000, 0.0000,\n",
            "         0.0169, 0.1224, 0.2580, 0.3773, 0.3765, 0.3278, 0.3333, 0.2824, 0.2263,\n",
            "         0.1541, 0.0349, 0.0655, 0.0894, 0.0945, 0.0490, 0.0478, 0.0165, 0.0000,\n",
            "         0.0000],\n",
            "        [0.0000, 0.0000, 0.0000, 0.0000, 0.0000, 0.0000, 0.0000, 0.0000, 0.0204,\n",
            "         0.1647, 0.2302, 0.3855, 0.4208, 0.5325, 0.5635, 0.6090, 0.6094, 0.4694,\n",
            "         0.3125, 0.2447, 0.1976, 0.0965, 0.0365, 0.0000, 0.0000, 0.0000, 0.0000,\n",
            "         0.0000],\n",
            "        [0.0000, 0.0000, 0.0000, 0.0000, 0.0000, 0.0000, 0.0000, 0.0157, 0.1027,\n",
            "         0.2133, 0.3125, 0.4733, 0.5741, 0.5639, 0.5271, 0.6027, 0.6710, 0.6796,\n",
            "         0.4192, 0.3345, 0.2514, 0.0827, 0.0569, 0.0161, 0.0012, 0.0000, 0.0000,\n",
            "         0.0000],\n",
            "        [0.0000, 0.0000, 0.0000, 0.0000, 0.0000, 0.0000, 0.0059, 0.0812, 0.1573,\n",
            "         0.2290, 0.3882, 0.4682, 0.5392, 0.5157, 0.5608, 0.6125, 0.6561, 0.6329,\n",
            "         0.4718, 0.3478, 0.3475, 0.1918, 0.1094, 0.0988, 0.0090, 0.0000, 0.0000,\n",
            "         0.0000],\n",
            "        [0.0000, 0.0000, 0.0000, 0.0000, 0.0000, 0.0000, 0.0588, 0.0992, 0.1514,\n",
            "         0.2894, 0.3871, 0.4831, 0.5298, 0.4333, 0.3843, 0.4220, 0.4404, 0.4463,\n",
            "         0.4235, 0.3243, 0.3145, 0.2329, 0.1545, 0.1557, 0.0110, 0.0000, 0.0000,\n",
            "         0.0000],\n",
            "        [0.0000, 0.0000, 0.0000, 0.0000, 0.0000, 0.0000, 0.0671, 0.1267, 0.1871,\n",
            "         0.3867, 0.4341, 0.4804, 0.4890, 0.4925, 0.3937, 0.2541, 0.2702, 0.4184,\n",
            "         0.4016, 0.4396, 0.3675, 0.1835, 0.1141, 0.1455, 0.0376, 0.0000, 0.0000,\n",
            "         0.0000],\n",
            "        [0.0000, 0.0000, 0.0000, 0.0000, 0.0000, 0.0000, 0.0298, 0.1906, 0.2141,\n",
            "         0.3706, 0.4804, 0.6373, 0.5592, 0.4631, 0.3337, 0.2682, 0.3565, 0.4541,\n",
            "         0.4796, 0.4969, 0.3647, 0.1294, 0.0824, 0.0486, 0.0212, 0.0000, 0.0000,\n",
            "         0.0000],\n",
            "        [0.0000, 0.0000, 0.0000, 0.0000, 0.0000, 0.0000, 0.0286, 0.1451, 0.2157,\n",
            "         0.3620, 0.4302, 0.6357, 0.7514, 0.7063, 0.6086, 0.4514, 0.4902, 0.5478,\n",
            "         0.5310, 0.5063, 0.3173, 0.0729, 0.0000, 0.0000, 0.0000, 0.0000, 0.0000,\n",
            "         0.0000],\n",
            "        [0.0000, 0.0000, 0.0000, 0.0000, 0.0000, 0.0000, 0.0094, 0.1027, 0.2059,\n",
            "         0.2431, 0.3961, 0.6067, 0.7694, 0.7235, 0.6337, 0.6804, 0.7090, 0.6137,\n",
            "         0.5996, 0.4753, 0.1478, 0.0424, 0.0000, 0.0000, 0.0000, 0.0000, 0.0000,\n",
            "         0.0000],\n",
            "        [0.0000, 0.0000, 0.0000, 0.0000, 0.0000, 0.0000, 0.0000, 0.0616, 0.1173,\n",
            "         0.1800, 0.2663, 0.5506, 0.7310, 0.7737, 0.8565, 0.8620, 0.8780, 0.7498,\n",
            "         0.5459, 0.3176, 0.1745, 0.0800, 0.0071, 0.0000, 0.0000, 0.0000, 0.0000,\n",
            "         0.0000],\n",
            "        [0.0000, 0.0000, 0.0000, 0.0000, 0.0000, 0.0000, 0.0000, 0.0016, 0.0431,\n",
            "         0.2020, 0.2965, 0.4031, 0.7278, 0.7745, 0.8643, 0.9298, 0.9137, 0.6251,\n",
            "         0.5094, 0.3208, 0.1847, 0.1094, 0.0314, 0.0000, 0.0000, 0.0000, 0.0000,\n",
            "         0.0000],\n",
            "        [0.0000, 0.0000, 0.0000, 0.0000, 0.0000, 0.0000, 0.0000, 0.0000, 0.0443,\n",
            "         0.2102, 0.2306, 0.4302, 0.7384, 0.8141, 0.7910, 0.7737, 0.5651, 0.4165,\n",
            "         0.3522, 0.3204, 0.1788, 0.1071, 0.0788, 0.0067, 0.0000, 0.0000, 0.0000,\n",
            "         0.0000],\n",
            "        [0.0000, 0.0000, 0.0000, 0.0000, 0.0000, 0.0000, 0.0000, 0.0035, 0.1627,\n",
            "         0.2973, 0.3275, 0.5816, 0.7463, 0.7235, 0.5859, 0.4988, 0.3506, 0.3059,\n",
            "         0.2600, 0.2980, 0.2859, 0.1443, 0.0992, 0.0239, 0.0000, 0.0000, 0.0000,\n",
            "         0.0000],\n",
            "        [0.0000, 0.0000, 0.0000, 0.0000, 0.0000, 0.0000, 0.0086, 0.0765, 0.1867,\n",
            "         0.3400, 0.4667, 0.6741, 0.7071, 0.5494, 0.4784, 0.4396, 0.3647, 0.2035,\n",
            "         0.1996, 0.2980, 0.3310, 0.2314, 0.1255, 0.0427, 0.0000, 0.0000, 0.0000,\n",
            "         0.0000],\n",
            "        [0.0000, 0.0000, 0.0000, 0.0000, 0.0000, 0.0000, 0.0333, 0.1059, 0.2690,\n",
            "         0.4325, 0.6224, 0.7380, 0.5878, 0.2729, 0.3055, 0.4341, 0.4208, 0.1620,\n",
            "         0.1106, 0.3094, 0.3871, 0.2333, 0.1922, 0.0910, 0.0000, 0.0000, 0.0000,\n",
            "         0.0000],\n",
            "        [0.0000, 0.0000, 0.0000, 0.0000, 0.0000, 0.0000, 0.0784, 0.1631, 0.3918,\n",
            "         0.5157, 0.5839, 0.5961, 0.5624, 0.3169, 0.3369, 0.4153, 0.4455, 0.3067,\n",
            "         0.2208, 0.3435, 0.3843, 0.2192, 0.1984, 0.1098, 0.0000, 0.0000, 0.0000,\n",
            "         0.0000],\n",
            "        [0.0000, 0.0000, 0.0000, 0.0000, 0.0000, 0.0000, 0.1161, 0.2592, 0.4969,\n",
            "         0.5659, 0.5341, 0.6698, 0.6765, 0.5259, 0.4600, 0.5478, 0.5475, 0.4886,\n",
            "         0.3482, 0.3663, 0.3306, 0.2192, 0.1984, 0.0788, 0.0000, 0.0000, 0.0000,\n",
            "         0.0000],\n",
            "        [0.0000, 0.0000, 0.0000, 0.0000, 0.0000, 0.0000, 0.1153, 0.2663, 0.4714,\n",
            "         0.5671, 0.6094, 0.7078, 0.7851, 0.6071, 0.5110, 0.6396, 0.6776, 0.5259,\n",
            "         0.4157, 0.3498, 0.2894, 0.1976, 0.1133, 0.0090, 0.0000, 0.0000, 0.0000,\n",
            "         0.0000],\n",
            "        [0.0000, 0.0000, 0.0000, 0.0000, 0.0000, 0.0000, 0.0765, 0.1694, 0.3729,\n",
            "         0.4090, 0.4753, 0.7031, 0.7533, 0.7400, 0.7490, 0.6933, 0.5867, 0.4914,\n",
            "         0.3678, 0.2616, 0.1396, 0.0435, 0.0000, 0.0000, 0.0000, 0.0000, 0.0000,\n",
            "         0.0000],\n",
            "        [0.0000, 0.0000, 0.0000, 0.0000, 0.0000, 0.0000, 0.0000, 0.0020, 0.1216,\n",
            "         0.2678, 0.2988, 0.3784, 0.5431, 0.5800, 0.5078, 0.4051, 0.3373, 0.2792,\n",
            "         0.1208, 0.0333, 0.0000, 0.0000, 0.0000, 0.0000, 0.0000, 0.0000, 0.0000,\n",
            "         0.0000],\n",
            "        [0.0000, 0.0000, 0.0000, 0.0000, 0.0000, 0.0000, 0.0000, 0.0000, 0.0239,\n",
            "         0.0910, 0.1620, 0.1788, 0.2663, 0.2337, 0.1788, 0.1075, 0.0545, 0.0051,\n",
            "         0.0000, 0.0000, 0.0000, 0.0000, 0.0000, 0.0000, 0.0000, 0.0000, 0.0000,\n",
            "         0.0000],\n",
            "        [0.0000, 0.0000, 0.0000, 0.0000, 0.0000, 0.0000, 0.0000, 0.0000, 0.0000,\n",
            "         0.0000, 0.0000, 0.0000, 0.0000, 0.0000, 0.0000, 0.0000, 0.0000, 0.0000,\n",
            "         0.0000, 0.0000, 0.0000, 0.0000, 0.0000, 0.0000, 0.0000, 0.0000, 0.0000,\n",
            "         0.0000],\n",
            "        [0.0000, 0.0000, 0.0000, 0.0000, 0.0000, 0.0000, 0.0000, 0.0000, 0.0000,\n",
            "         0.0000, 0.0000, 0.0000, 0.0000, 0.0000, 0.0000, 0.0000, 0.0000, 0.0000,\n",
            "         0.0000, 0.0000, 0.0000, 0.0000, 0.0000, 0.0000, 0.0000, 0.0000, 0.0000,\n",
            "         0.0000],\n",
            "        [0.0000, 0.0000, 0.0000, 0.0000, 0.0000, 0.0000, 0.0000, 0.0000, 0.0000,\n",
            "         0.0000, 0.0000, 0.0000, 0.0000, 0.0000, 0.0000, 0.0000, 0.0000, 0.0000,\n",
            "         0.0000, 0.0000, 0.0000, 0.0000, 0.0000, 0.0000, 0.0000, 0.0000, 0.0000,\n",
            "         0.0000]])\n"
          ],
          "name": "stdout"
        },
        {
          "output_type": "display_data",
          "data": {
            "image/png": "[encoded data removed]",
            "text/plain": [
              "<Figure size 432x288 with 1 Axes>"
            ]
          },
          "metadata": {
            "tags": []
          }
        }
      ]
    },
    {
      "cell_type": "markdown",
      "metadata": {
        "id": "harvqjhs0gn0"
      },
      "source": [
        "## `torch.nn.Linear`\n",
        "\n",
        "We know that the layer `Linear` is essentially applying a linear transform to every sample in the data. In the following example, a linear layer is initialized with no bias, transforms a flattened `28x28` matrix to a long vector of `14*14`, then reshape this vector back to `14x14` matrix.\n",
        "\n",
        "If we plot this matrix, we will find that nothing is discernible anymore. This is the nature of the neural network, transforms \"low-level\" concrete features to more abstracted features. Even after being trained, nn retains this black-box nature."
      ]
    },
    {
      "cell_type": "code",
      "metadata": {
        "id": "ASTiDNhm0gn0"
      },
      "source": [
        "import torch.nn as nn"
      ],
      "execution_count": 17,
      "outputs": []
    },
    {
      "cell_type": "code",
      "metadata": {
        "id": "zW7GScLi0gn1",
        "colab": {
          "base_uri": "https://localhost:8080/",
          "height": 265
        },
        "outputId": "53bb6877-1a17-4a3e-8219-326a19a19a4d"
      },
      "source": [
        "layer1 = nn.Linear(28*28, 14*14, bias=False)\n",
        "x0 = data_new[0].flatten() # flatten (28, 28) matrix to a (784, ) vector\n",
        "x1 = layer1(x0) # apply the linear transform\n",
        "image = x1.view(14,14).detach().numpy() # reshape (196, ) vector to (14,14)\n",
        "plt.imshow(image, cmap='gray'); "
      ],
      "execution_count": 18,
      "outputs": [
        {
          "output_type": "display_data",
          "data": {
            "image/png": "[encoded data removed]",
            "text/plain": [
              "<Figure size 432x288 with 1 Axes>"
            ]
          },
          "metadata": {
            "tags": []
          }
        }
      ]
    },
    {
      "cell_type": "markdown",
      "metadata": {
        "id": "5_o56deM0gn1"
      },
      "source": [
        "Notice that `torch` layer can handle data in batch."
      ]
    },
    {
      "cell_type": "code",
      "metadata": {
        "id": "i_cmkOhf0gn1",
        "colab": {
          "base_uri": "https://localhost:8080/"
        },
        "outputId": "d72e18f6-db7f-4076-e04c-f1fe211445d7"
      },
      "source": [
        "n_samples = len(data_new)\n",
        "X0 = data_new.view(n_samples, -1) \n",
        "X1 = layer1(X0)\n",
        "X2 = X1.view(-1,14,14) # -1 detects the batch size automatically\n",
        "print(X2.size())"
      ],
      "execution_count": 19,
      "outputs": [
        {
          "output_type": "stream",
          "text": [
            "torch.Size([10, 14, 14])\n"
          ],
          "name": "stdout"
        }
      ]
    },
    {
      "cell_type": "markdown",
      "metadata": {
        "id": "6uH8O0hr0gn2"
      },
      "source": [
        "## Problem 2\n",
        "Implement in the following cell `nn.Linear` from scratch using `torch.mm` on `data_new` of a linear layer with out bias to achieve the result of the following `for` loop. The following `for` loop can be modified to three lines of code with a reshape using `view` function, a matrix-matrix multiplication, reshape using `view` again.\n",
        "\n",
        "```python\n",
        "W0 = torch.randn(28*28, 14*14)\n",
        "n_samples = len(data_new)\n",
        "X0 = data_new\n",
        "X1 = torch.zeros(n_samples, 14*14, 1)\n",
        "for i in range(n_samples):\n",
        "    sample = X0[i,:,:].view(-1,1)\n",
        "    X1[i,:] = W0.T.mm(sample)\n",
        "X2 = X1.view(-1,14,14)\n",
        "\n",
        "```"
      ]
    },
    {
      "cell_type": "code",
      "metadata": {
        "id": "dj4QgghA0gn2",
        "colab": {
          "base_uri": "https://localhost:8080/"
        },
        "outputId": "e510bfd6-ce01-451f-b4ee-835ea421591e"
      },
      "source": [
        "X0 = data_new.view(n_samples, -1) \n",
        "X1=X0.mm(W0)\n",
        "X2 = X1.view(n_samples, 14, 14)   \n",
        "\n",
        "\n",
        "print(X2.size()) # should be (10, 14, 14)"
      ],
      "execution_count": 38,
      "outputs": [
        {
          "output_type": "stream",
          "text": [
            "torch.Size([10, 14, 14])\n"
          ],
          "name": "stdout"
        }
      ]
    },
    {
      "cell_type": "markdown",
      "metadata": {
        "id": "1ODFqay10gn2"
      },
      "source": [
        "## Downsampling, pooling, and padding\n",
        "\n",
        "###  Examples\n",
        "In practice of computer vision, an image is sometimes downsampled to reduce the dimension and the size of the neural network. We can do so by \"pooling\": for example, for an `28x28` image, we can \"pool\" it by taking the maximum of a `2x2` block to downsample an image from `28x28` to `14x14`.\n",
        "\n",
        "An example can be viewed as follows:\n",
        "\n",
        "<img width=\"512\" alt=\"MnistExamples\" src=\"https://sites.wustl.edu/scao/files/2021/02/MaxpoolSample2.png\"/></a>\n",
        "\n",
        "\"Padding\" is the operation of adding zeros on the outer rims of a matrix to make it bigger, it is useful in neural network to keep the size consistent. For example for the folllowing `2x2` matrix:\n",
        "```\n",
        "tensor ([[1 , 2],\n",
        "         [3, 4]])\n",
        "\n",
        "```\n",
        "We can pad this matrix by zeros with a padding size 2 as follows:\n",
        "```\n",
        "tensor([[ 0,  0,  0,  0,  0,  0],\n",
        "        [ 0,  0,  0,  0,  0,  0],\n",
        "        [ 0,  0,  1,  2,  0,  0],\n",
        "        [ 0,  0,  3,  4,  0,  0],\n",
        "        [ 0,  0,  0,  0,  0,  0],\n",
        "        [ 0,  0,  0,  0,  0,  0]])\n",
        "```\n",
        "\n"
      ]
    },
    {
      "cell_type": "code",
      "metadata": {
        "id": "ReTfRZ2h0gn6",
        "colab": {
          "base_uri": "https://localhost:8080/",
          "height": 282
        },
        "outputId": "ba2aceca-5a69-43b3-912a-767f527d2887"
      },
      "source": [
        " # pool of square window of size=2, stride=2 as shown in the image above\n",
        " # size: the size of the square pooling window\n",
        " # stride: how many entries does the pooling window moves each time, if the stride is 1, then there is overlapping for a size 2 pooling window\n",
        " layer2 = nn.MaxPool2d(2, stride=2) \n",
        " X0 = data_new\n",
        " X1 = layer2(X0)\n",
        " print(X1.size())\n",
        " plt.imshow(X1[1], cmap='gray'); "
      ],
      "execution_count": 39,
      "outputs": [
        {
          "output_type": "stream",
          "text": [
            "torch.Size([10, 14, 14])\n"
          ],
          "name": "stdout"
        },
        {
          "output_type": "display_data",
          "data": {
            "image/png": "[encoded data removed]",
            "text/plain": [
              "<Figure size 432x288 with 1 Axes>"
            ]
          },
          "metadata": {
            "tags": []
          }
        }
      ]
    },
    {
      "cell_type": "markdown",
      "metadata": {
        "id": "1oIAmQty0gn7"
      },
      "source": [
        "## Problem 3\n",
        "\n",
        "Fill in the following cell implementation a vectorized function to perform a zero-padding on the max-pooled data with size `(10,14,14)`, and transform each sample in it back to `(10,28,28)` without `for` loop."
      ]
    },
    {
      "cell_type": "code",
      "metadata": {
        "id": "1RMm-WdO0gn7",
        "colab": {
          "base_uri": "https://localhost:8080/",
          "height": 282
        },
        "outputId": "35b69af9-64aa-497f-de73-bdb05c57b2dd"
      },
      "source": [
        "X=torch.zeros((10,28,28))\n",
        "X[:,7:-7, 7:-7]=X1\n",
        "X1_upsample = X\n",
        "\n",
        "print(X1_upsample.size()) # (10, 28, 28)\n",
        "plt.imshow(X1_upsample[1], cmap='gray'); # should be an eight"
      ],
      "execution_count": 49,
      "outputs": [
        {
          "output_type": "stream",
          "text": [
            "torch.Size([10, 28, 28])\n"
          ],
          "name": "stdout"
        },
        {
          "output_type": "display_data",
          "data": {
            "image/png": "[encoded data removed]",
            "text/plain": [
              "<Figure size 432x288 with 1 Axes>"
            ]
          },
          "metadata": {
            "tags": []
          }
        }
      ]
    },
    {
      "cell_type": "markdown",
      "metadata": {
        "id": "ZHK2Agm00gn7"
      },
      "source": [
        "## `loss.backward()`\n",
        "\n",
        "The `backward()` operation on any tensor `w` initialized with `requires_grad=True` will compute the gradient of `w`, and we can retrieve its gradient by `w.grad`. For example in the following cell, the gradient of $W^{T}$ is computed for \n",
        "$$\n",
        "L = \\frac{1}{20}\\sum_{i=1}^{10} |W\\boldsymbol{x}^{(i)} -y^{(i)} |^2\n",
        "$$"
      ]
    },
    {
      "cell_type": "code",
      "metadata": {
        "id": "AS8AP8JS0gn8",
        "colab": {
          "base_uri": "https://localhost:8080/"
        },
        "outputId": "0193a676-2e22-4a49-a036-3ae169d95230"
      },
      "source": [
        "torch.manual_seed(42)\n",
        "n_samples = len(data_new)\n",
        "\n",
        "# X[i] is a row vector representing a sample\n",
        "X = torch.tensor(data_new.view(-1, 28*28), requires_grad=False) \n",
        "\n",
        "# y[i] is a made-up label for i-th sample\n",
        "y = torch.randn((n_samples, 1), requires_grad=False)\n",
        "\n",
        "# W is the weight matrix transposed \n",
        "W = torch.randn((28*28, 1), requires_grad=True)\n",
        "L = 0.5*(X.mm(W) - y).square().mean()\n",
        "\n",
        "# backprop\n",
        "L.backward()\n",
        "\n",
        "# gradient\n",
        "with torch.no_grad():\n",
        "    gradW = W.grad"
      ],
      "execution_count": 61,
      "outputs": [
        {
          "output_type": "stream",
          "text": [
            "/usr/local/lib/python3.7/dist-packages/ipykernel_launcher.py:5: UserWarning: To copy construct from a tensor, it is recommended to use sourceTensor.clone().detach() or sourceTensor.clone().detach().requires_grad_(True), rather than torch.tensor(sourceTensor).\n",
            "  \"\"\"\n"
          ],
          "name": "stderr"
        }
      ]
    },
    {
      "cell_type": "code",
      "metadata": {
        "tags": [],
        "id": "tMtjUSqd0gn8",
        "colab": {
          "base_uri": "https://localhost:8080/"
        },
        "outputId": "d8e602cb-5af1-4c51-88c1-9305e83d80bd"
      },
      "source": [
        "print(W.size(), gradW.size()) # gradW has sample shape with W"
      ],
      "execution_count": 62,
      "outputs": [
        {
          "output_type": "stream",
          "text": [
            "torch.Size([784, 1]) torch.Size([784, 1])\n"
          ],
          "name": "stdout"
        }
      ]
    },
    {
      "cell_type": "markdown",
      "metadata": {
        "id": "fkIc6UPO0gn8"
      },
      "source": [
        "## Problem 4\n",
        "\n",
        "Fill in the following cell an implementation of the backpropagation to compute\n",
        "$$ \n",
        "\\frac{\\partial L}{ \\partial (W^T)} = \\frac{1}{10} \\sum_{i=1}^{10} \n",
        "(W\\boldsymbol{x}^{(i)} -y^{(i)}) * \\boldsymbol{x}^{(i)}\n",
        "$$ \n",
        "using explicitly the matrix-vector multiplication `mm` and elementwise multiplication `*`. Then verify that the explicitly computed backpropagation gradient coincides with the `gradW` above.\n",
        "\n",
        "Caveat: we may want to pay attention to the sizes of the vector being either `(28*28, )` or `(28*28, 1)`."
      ]
    },
    {
      "cell_type": "code",
      "metadata": {
        "id": "rhDZA5Uz0gn8",
        "colab": {
          "base_uri": "https://localhost:8080/"
        },
        "outputId": "b58b5428-44c0-47b3-c6cb-214455ecab91"
      },
      "source": [
        "with torch.no_grad():\n",
        "    gradW1 = (1/10)*torch.sum((X.mm(W)-y)*X, dim=0)\n",
        "    gradW1 = gradW1.view(-1,1)\n",
        "\n",
        "print(torch.norm(gradW1-gradW)) # this should be less than 1e-5 (single-precision error margin)"
      ],
      "execution_count": 65,
      "outputs": [
        {
          "output_type": "stream",
          "text": [
            "tensor(1.4696e-06)\n"
          ],
          "name": "stdout"
        }
      ]
    },
    {
      "cell_type": "code",
      "metadata": {
        "id": "O3R8amZ30gn8"
      },
      "source": [
        ""
      ],
      "execution_count": 65,
      "outputs": []
    }
  ]
}